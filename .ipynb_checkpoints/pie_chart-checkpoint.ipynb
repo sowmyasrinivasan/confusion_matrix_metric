{
 "cells": [
  {
   "cell_type": "code",
   "execution_count": 68,
   "metadata": {},
   "outputs": [],
   "source": [
    "import pandas as pd\n",
    "import numpy as np\n",
    "from scipy.special import rel_entr\n",
    "import matplotlib.pyplot as plt\n",
    "from scipy.misc import electrocardiogram\n",
    "from scipy.signal import find_peaks\n",
    "from sklearn.metrics import confusion_matrix\n",
    "import seaborn as sn\n",
    "from sklearn.metrics import r2_score\n",
    "import ipywidgets as widgets\n",
    "from ipywidgets import HBox, VBox"
   ]
  },
  {
   "cell_type": "markdown",
   "metadata": {},
   "source": [
    "## load data"
   ]
  },
  {
   "cell_type": "code",
   "execution_count": 69,
   "metadata": {},
   "outputs": [],
   "source": [
    "poor = pd.read_csv('Example Data/Example Event Data/privatized-very-poor-quality.csv')"
   ]
  },
  {
   "cell_type": "code",
   "execution_count": 70,
   "metadata": {},
   "outputs": [],
   "source": [
    "mediocre = pd.read_csv('Example Data/Example Event Data/privatized-mediocre-quality.csv')"
   ]
  },
  {
   "cell_type": "code",
   "execution_count": 71,
   "metadata": {},
   "outputs": [],
   "source": [
    "ground = pd.read_csv(\"Example Data/Example Event Data/ground_truth.csv\")"
   ]
  },
  {
   "cell_type": "code",
   "execution_count": 72,
   "metadata": {},
   "outputs": [],
   "source": [
    "df1 = mediocre.iloc[:, 4::]"
   ]
  },
  {
   "cell_type": "code",
   "execution_count": 73,
   "metadata": {},
   "outputs": [],
   "source": [
    "df2 = ground.iloc[:, 3::]"
   ]
  },
  {
   "cell_type": "code",
   "execution_count": 74,
   "metadata": {},
   "outputs": [],
   "source": [
    "df3 = poor.iloc[:, 4::]"
   ]
  },
  {
   "cell_type": "code",
   "execution_count": 75,
   "metadata": {},
   "outputs": [],
   "source": [
    "med = df1.iloc[0].values"
   ]
  },
  {
   "cell_type": "code",
   "execution_count": 76,
   "metadata": {},
   "outputs": [],
   "source": [
    "grd = df2.iloc[0].values"
   ]
  },
  {
   "cell_type": "code",
   "execution_count": 77,
   "metadata": {},
   "outputs": [],
   "source": [
    "pr = df3.iloc[0].values"
   ]
  },
  {
   "cell_type": "markdown",
   "metadata": {},
   "source": [
    "## pie chart metric"
   ]
  },
  {
   "cell_type": "code",
   "execution_count": 78,
   "metadata": {},
   "outputs": [],
   "source": [
    "def js(p, q):\n",
    "    m = (p + q) / 2.0\n",
    "    left = rel_entr(p, m)\n",
    "    right = rel_entr(q, m)\n",
    "    js = np.sum(left, axis=0) + np.sum(right, axis=0)\n",
    "    js /= np.log(2)\n",
    "    return np.sqrt(js / 2.0)"
   ]
  },
  {
   "cell_type": "code",
   "execution_count": 79,
   "metadata": {},
   "outputs": [],
   "source": [
    "def zero_norm(x):\n",
    "    s = sum(x)\n",
    "    for i in range(0, len(x)):\n",
    "        if x[i]/s < 0.05:\n",
    "            x[i] = 0\n",
    "    return x/x.sum()"
   ]
  },
  {
   "cell_type": "code",
   "execution_count": 80,
   "metadata": {},
   "outputs": [],
   "source": [
    "def mpp(p, q):\n",
    "    mp = 0\n",
    "    if not np.array_equal(np.nonzero(p)[0], np.nonzero(q)[0]):\n",
    "        for i in range(0, len(q)):\n",
    "            if p[i] == 0 and q[i] != 0:\n",
    "                mp += 0.2\n",
    "    return mp"
   ]
  },
  {
   "cell_type": "code",
   "execution_count": 81,
   "metadata": {},
   "outputs": [],
   "source": [
    "def bpp(p, q):\n",
    "    \"\"\"do this before zero_norm\"\"\"\n",
    "    bp = 0\n",
    "    if np.abs(np.sum(p) - np.sum(q)) > 500:\n",
    "        bp += 0.25\n",
    "    return bp"
   ]
  },
  {
   "cell_type": "code",
   "execution_count": 82,
   "metadata": {},
   "outputs": [],
   "source": [
    "def pie(p, q):\n",
    "    p = np.asarray(p)\n",
    "    q = np.asarray(q)\n",
    "    bp = bpp(p, q)\n",
    "    p = zero_norm(p)\n",
    "    q = zero_norm(q)\n",
    "    jsd = js(p, q)\n",
    "    mp = mpp(p, q)\n",
    "    sm = jsd + mp + bp\n",
    "    piechart = 1 - min(sm, 1)\n",
    "    return piechart"
   ]
  },
  {
   "cell_type": "markdown",
   "metadata": {},
   "source": [
    "## trends across time"
   ]
  },
  {
   "cell_type": "code",
   "execution_count": 83,
   "metadata": {},
   "outputs": [],
   "source": [
    "def overall_shape(true, pred):\n",
    "    \"\"\"ideally let people choose peak height on find_peaks.\n",
    "    add some tunable parameter to metric for each element in diffs, possibly based on the\n",
    "    height of the peak.\"\"\"\n",
    "    zz = pred.groupby('neighborhood').sum()\n",
    "    zz = zz.iloc[:, 4::]\n",
    "    zz = zz.sum(axis=1)\n",
    "    yy = true.groupby('neighborhood').sum()\n",
    "    yy = yy.iloc[:, 3::]\n",
    "    yy = yy.sum(axis=1)\n",
    "    peaks, _ = find_peaks(yy.values, height=0)\n",
    "    x_axis = list(yy.index)\n",
    "    pks, _ = find_peaks(zz.values, height=0)\n",
    "    diffs = list(set(peaks) ^ set(pks))\n",
    "    plt.rcParams.update({'font.size': 25})\n",
    "    plt.figure(figsize=(40,10))\n",
    "    plt.plot(x_axis, yy.values, label='ground')\n",
    "    plt.plot(peaks, yy[peaks], \"x\", color='k')\n",
    "    plt.plot(x_axis, zz.values, label='poor')\n",
    "    plt.plot(peaks, zz[peaks], \"x\")\n",
    "    plt.legend(loc=\"upper right\", prop={'size': 25})\n",
    "    return diffs"
   ]
  },
  {
   "cell_type": "markdown",
   "metadata": {},
   "source": [
    "## confusion matrix"
   ]
  },
  {
   "cell_type": "code",
   "execution_count": 84,
   "metadata": {},
   "outputs": [],
   "source": [
    "def visualize(t, p):\n",
    "    true = t.iloc[:, 3::]\n",
    "    pred = p.iloc[:, 4::]\n",
    "    true[true > 0] = 1\n",
    "    pred[pred > 0] = 1\n",
    "    c = confusion_matrix(true.loc[0], pred.loc[0])\n",
    "    for i in range(1, len(true)):\n",
    "        c += confusion_matrix(true.loc[i], pred.loc[i])\n",
    "    group_names = ['True Neg','False Pos','False Neg','True Pos']\n",
    "    group_counts = [\"{0:0.0f}\".format(value) for value in\n",
    "                c.flatten()]\n",
    "    group_percentages = [\"{0:.2%}\".format(value) for value in\n",
    "                         c.flatten()/np.sum(c)]\n",
    "    labels = [f\"{v1}\\n{v2}\\n{v3}\" for v1, v2, v3 in\n",
    "          zip(group_names,group_counts,group_percentages)]\n",
    "    labels = np.asarray(labels).reshape(2,2)\n",
    "    sn.heatmap(c, annot=labels, fmt='', cmap='Oranges')"
   ]
  },
  {
   "cell_type": "markdown",
   "metadata": {},
   "source": [
    "## toy"
   ]
  },
  {
   "cell_type": "code",
   "execution_count": 85,
   "metadata": {},
   "outputs": [],
   "source": [
    "# true = np.loadtxt('true.csv', delimiter=',')"
   ]
  },
  {
   "cell_type": "code",
   "execution_count": 86,
   "metadata": {},
   "outputs": [],
   "source": [
    "# pred = true.copy()\n",
    "# for i in range(0, len(true)):\n",
    "#     noise = abs(np.random.normal(0, 5, 10))//1\n",
    "#     pred[i] += noise"
   ]
  },
  {
   "cell_type": "code",
   "execution_count": 87,
   "metadata": {},
   "outputs": [],
   "source": [
    "# pred = np.loadtxt('pred.csv', delimiter=',')"
   ]
  },
  {
   "cell_type": "code",
   "execution_count": 88,
   "metadata": {},
   "outputs": [],
   "source": [
    "# x = true[-4]"
   ]
  },
  {
   "cell_type": "code",
   "execution_count": 89,
   "metadata": {},
   "outputs": [],
   "source": [
    "# y = pred[-4]\n",
    "# y"
   ]
  },
  {
   "cell_type": "code",
   "execution_count": 90,
   "metadata": {},
   "outputs": [],
   "source": [
    "def matrix(p, q):\n",
    "    p = np.asarray(p)\n",
    "    q = np.asarray(q)\n",
    "    bp = bpp(p, q)\n",
    "    if np.sum(p) != 0:\n",
    "        p = zero_norm(p)\n",
    "    if np.sum(q) != 0:\n",
    "        q = zero_norm(q)\n",
    "    jsd = js(p, q)\n",
    "    mp = mpp(p, q)\n",
    "    t_bins = np.arange(0, max(p) + (max(p)/9) + 0.01, max(p)/9)\n",
    "    t_inds = np.digitize(p, t_bins)\n",
    "    p_bins = np.arange(0, max(q) + (max(q)/9) + 0.01, max(q)/9)\n",
    "    p_inds = np.digitize(q, p_bins)\n",
    "    penalty = (len(t_inds) - len(np.where(p_inds==t_inds)[0]))*0.1\n",
    "    sm = jsd + mp + bp + penalty\n",
    "    piechart = 1 - min(sm, 1)\n",
    "    return round(piechart, 3)"
   ]
  },
  {
   "cell_type": "code",
   "execution_count": 91,
   "metadata": {},
   "outputs": [],
   "source": [
    "# end_product = 0\n",
    "# for i in range(0, len(true)):\n",
    "#     end_product += matrix(true[i], pred[i])"
   ]
  },
  {
   "cell_type": "code",
   "execution_count": 92,
   "metadata": {},
   "outputs": [],
   "source": [
    "# end_product/len(true)"
   ]
  },
  {
   "cell_type": "code",
   "execution_count": 93,
   "metadata": {},
   "outputs": [],
   "source": [
    "# x_axis = np.arange(0, 12)\n",
    "# t_sum = true.sum(axis=1)\n",
    "# p_sum = pred.sum(axis=1)"
   ]
  },
  {
   "cell_type": "code",
   "execution_count": 94,
   "metadata": {},
   "outputs": [],
   "source": [
    "# r_squared = r2_score(t_sum, p_sum)"
   ]
  },
  {
   "cell_type": "code",
   "execution_count": 95,
   "metadata": {},
   "outputs": [],
   "source": [
    "# r_squared"
   ]
  },
  {
   "cell_type": "markdown",
   "metadata": {},
   "source": [
    "## Score Comp Visualizations"
   ]
  },
  {
   "cell_type": "code",
   "execution_count": 96,
   "metadata": {},
   "outputs": [],
   "source": [
    "# linviz1 = mediocre.groupby('month').sum().reset_index()"
   ]
  },
  {
   "cell_type": "code",
   "execution_count": 97,
   "metadata": {},
   "outputs": [],
   "source": [
    "# linviz2 = (ground.groupby('month').sum()).reset_index()"
   ]
  },
  {
   "cell_type": "code",
   "execution_count": 98,
   "metadata": {},
   "outputs": [],
   "source": [
    "# inx = list(linviz1.columns)[4:]"
   ]
  },
  {
   "cell_type": "code",
   "execution_count": 99,
   "metadata": {},
   "outputs": [],
   "source": [
    "# linviz1.plot('month', '3', subplots=True, layout=(2,1))\n",
    "# linviz2.plot('month', '3', subplots=True, layout=(2,1))"
   ]
  },
  {
   "cell_type": "code",
   "execution_count": 100,
   "metadata": {},
   "outputs": [],
   "source": [
    "# %matplotlib inline"
   ]
  },
  {
   "cell_type": "code",
   "execution_count": 101,
   "metadata": {},
   "outputs": [],
   "source": [
    "# @widgets.interact(\n",
    "#     incident=inx)\n",
    "# def plot(incident='0'):\n",
    "#     linviz1.plot('month', incident, subplots=True, layout=(2,1))\n",
    "#     linviz2.plot('month', incident, subplots=True, layout=(2,1))\n",
    "    "
   ]
  },
  {
   "cell_type": "code",
   "execution_count": 102,
   "metadata": {},
   "outputs": [],
   "source": [
    "def score_comp(p, q):\n",
    "    p = np.asarray(p)\n",
    "    q = np.asarray(q)\n",
    "    bp = bpp(p, q)\n",
    "    if np.sum(p) != 0:\n",
    "        p = zero_norm(p)\n",
    "    if np.sum(q) != 0:\n",
    "        q = zero_norm(q)\n",
    "    print(q)\n",
    "    jsd = js(p, q)\n",
    "    mp = mpp(p, q)\n",
    "    bins = np.arange(0, 1.01 + 1.01/10, 1.01/10)\n",
    "    t_inds = np.digitize(p, bins)\n",
    "    p_inds = np.digitize(q, bins)\n",
    "    penalty = (len(t_inds) - len(np.where(p_inds==t_inds)[0]))*0.1\n",
    "    sm = jsd + mp + bp + penalty\n",
    "    piechart = 1 - min(sm, 1)\n",
    "    return jsd, mp, bp, penalty"
   ]
  },
  {
   "cell_type": "code",
   "execution_count": 103,
   "metadata": {},
   "outputs": [],
   "source": [
    "# scores = []\n",
    "# for i in range(0, len(df2)):\n",
    "#     scores.append(score_comp(df2.iloc[i].values, df3.iloc[i].values))"
   ]
  },
  {
   "cell_type": "code",
   "execution_count": 104,
   "metadata": {},
   "outputs": [],
   "source": [
    "# med_scores = []\n",
    "# for i in range(0, len(df2)):\n",
    "#     med_scores.append(score_comp(df2.iloc[i].values, df1.iloc[i].values))"
   ]
  },
  {
   "cell_type": "code",
   "execution_count": 105,
   "metadata": {},
   "outputs": [],
   "source": [
    "# score_df = pd.DataFrame(scores, columns =['jsd', 'mpp', 'bp', 'rcp'])"
   ]
  },
  {
   "cell_type": "code",
   "execution_count": 106,
   "metadata": {},
   "outputs": [],
   "source": [
    "# score_df.jsd.value_counts()"
   ]
  },
  {
   "cell_type": "code",
   "execution_count": 107,
   "metadata": {},
   "outputs": [],
   "source": [
    "# score_df.div(score_df.sum(axis=1), axis=0)"
   ]
  },
  {
   "cell_type": "code",
   "execution_count": 108,
   "metadata": {},
   "outputs": [],
   "source": [
    "# desc_poor = score_df.describe()\n",
    "# desc_poor = desc_poor.div(desc_poor.sum(axis=1), axis=0)"
   ]
  },
  {
   "cell_type": "code",
   "execution_count": 109,
   "metadata": {},
   "outputs": [],
   "source": [
    "# med_df = pd.DataFrame(med_scores, columns =['jsd', 'mpp', 'bp', 'rcp']) "
   ]
  },
  {
   "cell_type": "code",
   "execution_count": 110,
   "metadata": {},
   "outputs": [],
   "source": [
    "# med_df = med_df.div(med_df.sum(axis=1), axis=0)\n",
    "# desc_med = med_df.describe()\n",
    "# desc_med = desc_med.div(desc_med.sum(axis=1), axis=0)"
   ]
  },
  {
   "cell_type": "code",
   "execution_count": 111,
   "metadata": {},
   "outputs": [],
   "source": [
    "# poor_bar = desc_poor.iloc[1].values\n",
    "# med_bar = desc_med.iloc[1].values"
   ]
  },
  {
   "cell_type": "code",
   "execution_count": 112,
   "metadata": {},
   "outputs": [],
   "source": [
    "# labels = desc_poor.columns.values"
   ]
  },
  {
   "cell_type": "code",
   "execution_count": 113,
   "metadata": {},
   "outputs": [],
   "source": [
    "# zz = desc_med.reset_index()"
   ]
  },
  {
   "cell_type": "code",
   "execution_count": 114,
   "metadata": {},
   "outputs": [],
   "source": [
    "# zz = zz.iloc[1]"
   ]
  },
  {
   "cell_type": "code",
   "execution_count": 115,
   "metadata": {},
   "outputs": [],
   "source": [
    "# zzz = pd.DataFrame(zz).T"
   ]
  },
  {
   "cell_type": "code",
   "execution_count": 116,
   "metadata": {},
   "outputs": [],
   "source": [
    "# s = desc_poor.reset_index()\n",
    "# s = s.iloc[1]\n",
    "# sss = pd.DataFrame(s).T"
   ]
  },
  {
   "cell_type": "code",
   "execution_count": 117,
   "metadata": {},
   "outputs": [],
   "source": [
    "# new_df = sss.append(zzz)"
   ]
  },
  {
   "cell_type": "code",
   "execution_count": 118,
   "metadata": {},
   "outputs": [],
   "source": [
    "# new_df = new_df[['jsd', 'mpp', 'bp', 'rcp']]"
   ]
  },
  {
   "cell_type": "code",
   "execution_count": 119,
   "metadata": {},
   "outputs": [],
   "source": [
    "# new_df = (new_df.reset_index())[['jsd', 'mpp', 'bp', 'rcp']]"
   ]
  },
  {
   "cell_type": "code",
   "execution_count": 120,
   "metadata": {},
   "outputs": [],
   "source": [
    "# new_df['epsilon'] = [0.5, 4]"
   ]
  },
  {
   "cell_type": "code",
   "execution_count": 121,
   "metadata": {},
   "outputs": [],
   "source": [
    "# new_df = new_df.set_index('epsilon')"
   ]
  },
  {
   "cell_type": "code",
   "execution_count": 122,
   "metadata": {},
   "outputs": [],
   "source": [
    "# new_df.plot.bar(stacked=True)\n",
    "# plt.title(\"Score Composition\")\n",
    "# plt.savefig('score_comp.png')"
   ]
  },
  {
   "cell_type": "markdown",
   "metadata": {},
   "source": [
    "## Time Visualizations"
   ]
  },
  {
   "cell_type": "code",
   "execution_count": 194,
   "metadata": {},
   "outputs": [],
   "source": [
    "ground_time = ground.drop('neighborhood', axis=1)\n",
    "ground_time = ground_time.drop('year', axis=1)\n",
    "ground_time = ground_time.groupby('month').sum()"
   ]
  },
  {
   "cell_type": "code",
   "execution_count": 195,
   "metadata": {},
   "outputs": [],
   "source": [
    "poor_time = poor.drop('neighborhood', axis=1)\n",
    "poor_time = poor_time.drop('year', axis=1)\n",
    "poor_time = poor_time.drop('epsilon', axis=1)\n",
    "poor_time = poor_time.groupby('month').sum()"
   ]
  },
  {
   "cell_type": "code",
   "execution_count": 196,
   "metadata": {},
   "outputs": [],
   "source": [
    "mediocre_time = mediocre.drop('neighborhood', axis=1)\n",
    "mediocre_time = mediocre_time.drop('year', axis=1)\n",
    "mediocre_time = mediocre_time.drop('epsilon', axis=1)\n",
    "mediocre_time = mediocre_time.groupby('month').sum()"
   ]
  },
  {
   "cell_type": "code",
   "execution_count": 198,
   "metadata": {},
   "outputs": [],
   "source": [
    "poor_box = []\n",
    "for i in range(0, 174):\n",
    "    r_squared = r2_score(ground_time[str(i)].values, poor_time[str(i)].values)\n",
    "    poor_box.append(r_squared)"
   ]
  },
  {
   "cell_type": "code",
   "execution_count": 199,
   "metadata": {},
   "outputs": [],
   "source": [
    "mediocre_box = []\n",
    "for i in range(0, 174):\n",
    "    r_squared = r2_score(ground_time[str(i)].values, mediocre_time[str(i)].values)\n",
    "    mediocre_box.append(r_squared)"
   ]
  },
  {
   "cell_type": "code",
   "execution_count": 128,
   "metadata": {},
   "outputs": [],
   "source": [
    "# plt.boxplot(poor_box)\n",
    "# plt.xlabel('epsilon=4')\n",
    "# plt.ylabel('r_squared')\n",
    "# plt.savefig('poor_box.png')"
   ]
  },
  {
   "cell_type": "code",
   "execution_count": 129,
   "metadata": {},
   "outputs": [],
   "source": [
    "# plt.boxplot(mediocre_box)\n",
    "# plt.xlabel('epsilon=0.5')\n",
    "# plt.ylabel('r_squared')\n",
    "# plt.savefig('med_box.png')"
   ]
  },
  {
   "cell_type": "code",
   "execution_count": 154,
   "metadata": {},
   "outputs": [],
   "source": [
    "# fig, ax = plt.subplots()\n",
    "# a_heights, a_bins = np.histogram(df2.iloc[0], bins=10)\n",
    "# b_heights, b_bins = np.histogram(df3.iloc[0], bins=a_bins)\n",
    "# c_heights, c_bins = np.histogram(df1.iloc[0], bins=a_bins)\n",
    "# width = (a_bins[1] - a_bins[0])/4\n",
    "# ax.bar(a_bins[:-1], a_heights, width=width, facecolor='cornflowerblue', label='ground truth')\n",
    "# ax.bar(b_bins[:-1]+width, b_heights, width=width, facecolor='seagreen', label='epsilon=0.5')\n",
    "# ax.bar(c_bins[:-1]+width+width, c_heights, width=width, facecolor='red', label='epsilon=4')\n",
    "# ax.set_xlabel(\"category values\")\n",
    "# ax.set_ylabel(\"number of categories\")\n",
    "# ax.set_title(\"10 bins in Neighborhood 0 on Jan 2019\")\n",
    "# ax.legend(loc=\"upper right\")\n",
    "# plt.savefig('10bins.png')"
   ]
  },
  {
   "cell_type": "code",
   "execution_count": 156,
   "metadata": {},
   "outputs": [],
   "source": [
    "# fig, ax = plt.subplots()\n",
    "# a_heights, a_bins = np.histogram(df2.iloc[0], bins=5)\n",
    "# b_heights, b_bins = np.histogram(df3.iloc[0], bins=a_bins)\n",
    "# c_heights, c_bins = np.histogram(df1.iloc[0], bins=a_bins)\n",
    "# width = (a_bins[1] - a_bins[0])/4\n",
    "# ax.bar(a_bins[:-1], a_heights, width=width, facecolor='cornflowerblue', label='ground truth')\n",
    "# ax.bar(b_bins[:-1]+width, b_heights, width=width, facecolor='seagreen', label='epsilon=0.5')\n",
    "# ax.bar(c_bins[:-1]+width+width, c_heights, width=width, facecolor='red', label='epsilon=4')\n",
    "# ax.set_xlabel(\"category values\")\n",
    "# ax.set_ylabel(\"number of categories\")\n",
    "# ax.set_title(\"5 bins in Neighborhood 0 on Jan 2019\")\n",
    "# ax.legend(loc=\"upper right\")\n",
    "# plt.savefig('5bins.png')"
   ]
  },
  {
   "cell_type": "code",
   "execution_count": 158,
   "metadata": {},
   "outputs": [],
   "source": [
    "# fig, ax = plt.subplots()\n",
    "# a_heights, a_bins = np.histogram(df2.iloc[0], bins=15)\n",
    "# b_heights, b_bins = np.histogram(df3.iloc[0], bins=a_bins)\n",
    "# c_heights, c_bins = np.histogram(df1.iloc[0], bins=a_bins)\n",
    "# width = (a_bins[1] - a_bins[0])/4\n",
    "# ax.bar(a_bins[:-1], a_heights, width=width, facecolor='cornflowerblue', label='ground truth')\n",
    "# ax.bar(b_bins[:-1]+width, b_heights, width=width, facecolor='seagreen', label='epsilon=0.5')\n",
    "# ax.bar(c_bins[:-1]+width+width, c_heights, width=width, facecolor='red', label='epsilon=4')\n",
    "# ax.set_xlabel(\"category values\")\n",
    "# ax.set_ylabel(\"number of categories\")\n",
    "# ax.set_title(\"15 bins in Neighborhood 0 on Jan 2019\")\n",
    "# ax.legend(loc=\"upper right\")\n",
    "# plt.savefig('15bins.png')"
   ]
  },
  {
   "cell_type": "code",
   "execution_count": 179,
   "metadata": {},
   "outputs": [],
   "source": [
    "averaging_ground = ground.drop('year', axis=1)\n",
    "averaging_ground = averaging_ground.drop('month', axis=1)\n",
    "averaging_ground = averaging_ground.set_index('neighborhood')\n",
    "averaging_ground['total'] = averaging_ground.sum(axis=1)\n",
    "averaging_ground = averaging_ground.reset_index('neighborhood')"
   ]
  },
  {
   "cell_type": "code",
   "execution_count": 181,
   "metadata": {},
   "outputs": [],
   "source": [
    "averaging_mediocre = mediocre.drop('year', axis=1)\n",
    "averaging_mediocre = averaging_mediocre.drop('month', axis=1)\n",
    "averaging_mediocre = averaging_mediocre.drop('epsilon', axis=1)\n",
    "averaging_mediocre = averaging_mediocre.set_index('neighborhood')\n",
    "averaging_mediocre['total'] = averaging_mediocre.sum(axis=1)\n",
    "averaging_mediocre = averaging_mediocre.reset_index('neighborhood')"
   ]
  },
  {
   "cell_type": "code",
   "execution_count": 204,
   "metadata": {},
   "outputs": [],
   "source": [
    "averaging_poor = poor.drop('year', axis=1)\n",
    "averaging_poor = averaging_poor.drop('month', axis=1)\n",
    "averaging_poor = averaging_poor.drop('epsilon', axis=1)\n",
    "averaging_poor = averaging_poor.set_index('neighborhood')\n",
    "averaging_poor['total'] = averaging_poor.sum(axis=1)\n",
    "averaging_poor = averaging_poor.reset_index('neighborhood')"
   ]
  },
  {
   "cell_type": "code",
   "execution_count": 189,
   "metadata": {},
   "outputs": [],
   "source": [
    "mediocre_r = []\n",
    "for i in range(0, 3336, 12):\n",
    "    r = r2_score(averaging_ground.total[i:i+12], averaging_mediocre.total[i:i+12])\n",
    "    mediocre_r.append(r)"
   ]
  },
  {
   "cell_type": "code",
   "execution_count": 205,
   "metadata": {},
   "outputs": [],
   "source": [
    "poor_r = []\n",
    "for i in range(0, 3336, 12):\n",
    "    r = r2_score(averaging_ground.total[i:i+12], averaging_poor.total[i:i+12])\n",
    "    poor_r.append(r)"
   ]
  },
  {
   "cell_type": "code",
   "execution_count": 210,
   "metadata": {},
   "outputs": [
    {
     "data": {
      "text/plain": [
       "-1604000.9851925243"
      ]
     },
     "execution_count": 210,
     "metadata": {},
     "output_type": "execute_result"
    }
   ],
   "source": [
    "#box=average over incident\n",
    "np.mean(poor_box)"
   ]
  },
  {
   "cell_type": "code",
   "execution_count": 211,
   "metadata": {},
   "outputs": [
    {
     "data": {
      "text/plain": [
       "-53142.19661336455"
      ]
     },
     "execution_count": 211,
     "metadata": {},
     "output_type": "execute_result"
    }
   ],
   "source": [
    "#no box=average over neighborhood\n",
    "np.mean(poor_r)"
   ]
  },
  {
   "cell_type": "code",
   "execution_count": 208,
   "metadata": {},
   "outputs": [
    {
     "data": {
      "text/plain": [
       "-24742.149053369078"
      ]
     },
     "execution_count": 208,
     "metadata": {},
     "output_type": "execute_result"
    }
   ],
   "source": [
    "np.mean(mediocre_box)"
   ]
  },
  {
   "cell_type": "code",
   "execution_count": 207,
   "metadata": {},
   "outputs": [
    {
     "data": {
      "text/plain": [
       "-790.7354464791284"
      ]
     },
     "execution_count": 207,
     "metadata": {},
     "output_type": "execute_result"
    }
   ],
   "source": [
    "np.mean(mediocre_r)"
   ]
  },
  {
   "cell_type": "code",
   "execution_count": null,
   "metadata": {},
   "outputs": [],
   "source": []
  }
 ],
 "metadata": {
  "kernelspec": {
   "display_name": "Python 3",
   "language": "python",
   "name": "python3"
  },
  "language_info": {
   "codemirror_mode": {
    "name": "ipython",
    "version": 3
   },
   "file_extension": ".py",
   "mimetype": "text/x-python",
   "name": "python",
   "nbconvert_exporter": "python",
   "pygments_lexer": "ipython3",
   "version": "3.7.4"
  }
 },
 "nbformat": 4,
 "nbformat_minor": 2
}
